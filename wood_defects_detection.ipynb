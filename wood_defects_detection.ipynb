{
  "nbformat": 4,
  "nbformat_minor": 0,
  "metadata": {
    "colab": {
      "provenance": [],
      "gpuType": "T4",
      "authorship_tag": "ABX9TyPC1XehYp3afSBvQLDmDUdc",
      "include_colab_link": true
    },
    "kernelspec": {
      "name": "python3",
      "display_name": "Python 3"
    },
    "language_info": {
      "name": "python"
    },
    "accelerator": "GPU"
  },
  "cells": [
    {
      "cell_type": "markdown",
      "metadata": {
        "id": "view-in-github",
        "colab_type": "text"
      },
      "source": [
        "<a href=\"https://colab.research.google.com/github/Nazarka99/Wood-defects-detection-yolo5/blob/main/wood_defects_detection.ipynb\" target=\"_parent\"><img src=\"https://colab.research.google.com/assets/colab-badge.svg\" alt=\"Open In Colab\"/></a>"
      ]
    },
    {
      "cell_type": "markdown",
      "source": [
        "## Preparing the dataset"
      ],
      "metadata": {
        "id": "2psXRt-07zfh"
      }
    },
    {
      "cell_type": "code",
      "execution_count": null,
      "metadata": {
        "colab": {
          "base_uri": "https://localhost:8080/"
        },
        "id": "zvRLFuDbunRW",
        "outputId": "640d2ca5-66ea-4358-81ea-c0ef3e9781c4"
      },
      "outputs": [
        {
          "output_type": "stream",
          "name": "stdout",
          "text": [
            "Mounted at /content/drive\n"
          ]
        }
      ],
      "source": [
        "# Get access to Google Drive\n",
        "from google.colab import drive\n",
        "\n",
        "drive.mount('/content/drive')"
      ]
    },
    {
      "cell_type": "code",
      "source": [
        "import shutil\n",
        "\n",
        "# Set the source path\n",
        "src_path = '/content/drive/MyDrive/object-detection/wood-defects'\n",
        "\n",
        "# Set the destination path\n",
        "dst_path = '/content'\n",
        "\n",
        "# Copy the folders and file\n",
        "folders = ['test', 'train', 'valid']\n",
        "file = 'data.yaml'\n",
        "\n",
        "for folder in folders:\n",
        "    shutil.copytree(f'{src_path}/{folder}', f'{dst_path}/{folder}')\n",
        "shutil.copy(f'{src_path}/{file}', f'{dst_path}/{file}')"
      ],
      "metadata": {
        "id": "OZvuRv9_z5GA"
      },
      "execution_count": 4,
      "outputs": []
    },
    {
      "cell_type": "markdown",
      "source": [
        "## Preparing the code"
      ],
      "metadata": {
        "id": "oYhBgq_L73qn"
      }
    },
    {
      "cell_type": "code",
      "source": [
        "# importing libraries\n",
        "\n",
        "#clone YOLOv5 and\n",
        "!git clone https://github.com/ultralytics/yolov5  # clone repo\n",
        "!pip install roboflow\n",
        "%cd yolov5\n",
        "%pip install -qr requirements.txt # install dependencies\n",
        "%pip install -q roboflow\n",
        "\n",
        "import torch\n",
        "import os\n",
        "from IPython.display import Image, clear_output  # to display images\n",
        "\n",
        "print(f\"Setup complete. Using torch {torch.__version__} ({torch.cuda.get_device_properties(0).name if torch.cuda.is_available() else 'CPU'})\")"
      ],
      "metadata": {
        "id": "F-jHsgpc5-xw"
      },
      "execution_count": 3,
      "outputs": []
    },
    {
      "cell_type": "markdown",
      "source": [
        "## Training the model"
      ],
      "metadata": {
        "id": "P4MPSCya8CYC"
      }
    },
    {
      "cell_type": "code",
      "source": [
        "!python train.py --img 1024 --batch 16 --epochs 72 --data /content/data.yaml --weights yolov5s.pt --cache"
      ],
      "metadata": {
        "id": "2C0BTUu_77fr"
      },
      "execution_count": 2,
      "outputs": []
    },
    {
      "cell_type": "code",
      "source": [
        "# Start tensorboard\n",
        "# Launch after you have started training\n",
        "# logs save in the folder \"runs\"\n",
        "%load_ext tensorboard\n",
        "%tensorboard --logdir runs"
      ],
      "metadata": {
        "id": "mhl1uBRTApZu"
      },
      "execution_count": 3,
      "outputs": []
    },
    {
      "cell_type": "code",
      "source": [
        "!python detect.py --weights runs/train/exp/weights/best.pt --img 1024 --conf 0.5 --source /content/test/images"
      ],
      "metadata": {
        "id": "lDE4Bu9JTbHp"
      },
      "execution_count": 1,
      "outputs": []
    },
    {
      "cell_type": "code",
      "source": [
        "#display inference on ALL test images\n",
        "\n",
        "import glob\n",
        "from IPython.display import Image, display\n",
        "\n",
        "for imageName in glob.glob('/content/yolov5/runs/detect/exp/*.jpg'): #assuming JPG\n",
        "    display(Image(filename=imageName))\n",
        "    print(\"\\n\")"
      ],
      "metadata": {
        "id": "ihfx_UOwTgsq"
      },
      "execution_count": 4,
      "outputs": []
    },
    {
      "cell_type": "code",
      "source": [
        "# Uploading the results to the google drive\n",
        "import shutil\n",
        "\n",
        "# Set the source and destination paths\n",
        "src_path = '/content/yolov5'\n",
        "dest_path = '/content/drive/MyDrive/object-detection/plants/yolov5'\n",
        "\n",
        "# Copy the entire folder\n",
        "shutil.copytree(src_path, dest_path)\n"
      ],
      "metadata": {
        "id": "dLM3g-vvTjCZ",
        "colab": {
          "base_uri": "https://localhost:8080/",
          "height": 36
        },
        "outputId": "f2055033-e187-4159-800f-e5b050cc0ef6"
      },
      "execution_count": null,
      "outputs": [
        {
          "output_type": "execute_result",
          "data": {
            "text/plain": [
              "'/content/drive/MyDrive/object-detection/plants/yolov5'"
            ],
            "application/vnd.google.colaboratory.intrinsic+json": {
              "type": "string"
            }
          },
          "metadata": {},
          "execution_count": 10
        }
      ]
    },
    {
      "cell_type": "code",
      "source": [],
      "metadata": {
        "id": "EvYZNkRE-A_b"
      },
      "execution_count": null,
      "outputs": []
    }
  ]
}